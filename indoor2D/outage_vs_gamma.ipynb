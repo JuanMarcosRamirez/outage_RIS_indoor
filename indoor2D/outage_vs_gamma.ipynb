{
 "cells": [
  {
   "cell_type": "markdown",
   "id": "370d457f",
   "metadata": {},
   "source": [
    "# Outage probability versus $\\gamma_{th}$"
   ]
  },
  {
   "cell_type": "markdown",
   "id": "56bf1900",
   "metadata": {},
   "source": [
    "## Loading libraries"
   ]
  },
  {
   "cell_type": "code",
   "execution_count": 1,
   "id": "ae40dbdd",
   "metadata": {},
   "outputs": [],
   "source": [
    "import numpy as np\n",
    "\n",
    "from misc import single_reflection_coordinate\n",
    "from misc import reflection_coordinates\n",
    "from misc import reflection_angles\n",
    "from misc import line_equation_coefficients\n",
    "from misc import dist_to_obstructions\n",
    "from misc import blocked_rays_main_paths\n",
    "from misc import fcombine"
   ]
  },
  {
   "cell_type": "markdown",
   "id": "5408092c",
   "metadata": {},
   "source": [
    "## Simulation settings"
   ]
  },
  {
   "cell_type": "code",
   "execution_count": 2,
   "id": "b8c3fc86",
   "metadata": {},
   "outputs": [],
   "source": [
    "# np.random.seed(1234)\n",
    "\n",
    "trials = 10000\n",
    "\n",
    "GHz  = 18 # operating frequency\n",
    "c    = 299792458  # speed of light\n",
    "r    = 0.1  # obtruction radius\n",
    "lmbd = 0.5  # intensity of the PPP (m^(-2))\n",
    "sgm2 = 1.658e-11\n",
    "Pt   = 0.1\n",
    "\n",
    "# Table 2 (paper)\n",
    "if (GHz == 18):\n",
    "    z  = 130\n",
    "    AO = 0.00006\n",
    "    f  = 18e9\n",
    "if (GHz == 26):\n",
    "    z  = 200\n",
    "    AO = 0.00013\n",
    "    f  = 26e9\n",
    "if (GHz == 60):\n",
    "    z  = 390\n",
    "    AO = 0.015\n",
    "    f  = 60e9\n",
    "if (GHz == 73):\n",
    "    z  = 420\n",
    "    AO = 0.0075\n",
    "    f  = 73e9\n",
    "\n",
    "wvlen= c / f\n",
    "# Refractive indices\n",
    "n1          = 1\n",
    "n2          = 1.5\n",
    "\n",
    "# Antenna gain\n",
    "GtdB = 20 # Gain at the transmitter in dB   \n",
    "GrdB = 10 # Gain at the receiver in dB\n",
    "Gt   = np.power(10, GtdB/10)\n",
    "Gr   = np.power(10, GrdB/10)\n",
    "G    = Gr * Gt\n",
    "B    = sgm2/(Pt * G)"
   ]
  },
  {
   "cell_type": "markdown",
   "id": "f10012f4",
   "metadata": {},
   "source": [
    "## Room, RIS, Tx, and Rx"
   ]
  },
  {
   "cell_type": "code",
   "execution_count": 3,
   "id": "a834b77c",
   "metadata": {},
   "outputs": [],
   "source": [
    "# Room dimensions\n",
    "Lx = 30\n",
    "Ly = 20\n",
    "room_area = Lx * Ly\n",
    "\n",
    "ris_center_x = 7.5\n",
    "ris_center_y = 0\n",
    "RIS_antenna = 'Intelligent array'\n",
    "N = 64\n",
    "# RIS on the bottom wall\n",
    "if (ris_center_y == 0):\n",
    "    x_RIS  = wvlen * (np.linspace(-N/2,(N/2)-1,N) - 0.50) + ris_center_x\n",
    "    y_RIS  = np.zeros(N) \n",
    "    wall = 'bottom'\n",
    "# RIS on the left wall\n",
    "if (ris_center_x == 0):\n",
    "    y_RIS  = wvlen * (np.linspace(-N/2,(N/2)-1,N) - 0.50) + ris_center_y\n",
    "    x_RIS  = np.zeros(N)\n",
    "    wall = 'left'\n",
    "# RIS on the upper wall\n",
    "if (ris_center_y == Ly):\n",
    "    x_RIS  = wvlen * (np.linspace(-N/2,(N/2)-1,N) - 0.50) + ris_center_x    # RIS x-coordinates\n",
    "    y_RIS  = np.ones(N) * Ly\n",
    "    wall = 'upper'\n",
    "# RIS on the right wall\n",
    "if (ris_center_x == Lx):\n",
    "    y_RIS  = wvlen * (np.linspace(-N/2,(N/2)-1,N) - 0.50) + ris_center_y     # RIS x-coordinates\n",
    "    x_RIS  = np.ones(N) * Lx\n",
    "    wall = 'right'\n",
    "\n",
    "\n",
    "# Transmitter and receiver cooordinates\n",
    "x_Tx = 1\n",
    "y_Tx = 1\n",
    "\n",
    "x_Rx = 1 + 10/np.sqrt(2)\n",
    "y_Rx = 1 + 10/np.sqrt(2)"
   ]
  },
  {
   "cell_type": "markdown",
   "id": "60c7c864",
   "metadata": {},
   "source": [
    "## Computing free path loss"
   ]
  },
  {
   "cell_type": "code",
   "execution_count": 4,
   "id": "f7756b64",
   "metadata": {},
   "outputs": [
    {
     "name": "stdout",
     "output_type": "stream",
     "text": [
      "coordinates\n",
      "Tx:\t (1.00, 1.00)\n",
      "Rx:\t (8.07, 8.07)\n",
      "--------------------------------\n",
      "\t\t LOS\t\t path1\t\t path2\t\t path3\t\t path4\n",
      "distances[m]\t 10.00000\t 11.50149\t 51.41747\t 31.72694\t 11.50149\n",
      "angles[deg]\t 0.00000\t 37.93708\t 7.90452\t 12.87781\t 37.93708\n",
      "W[dB]\t\t 0.00000\t 13.52086\t 13.97875\t 13.97471\t 13.52086\n",
      "Lk[dB]\t\t 77.55383\t 92.28987\t 105.75728\t 101.55841\t 92.28987\n",
      "--------------------------------\n"
     ]
    }
   ],
   "source": [
    "# Reflection path coordinates\n",
    "xr, yr = reflection_coordinates(Lx, Ly, x_Tx, y_Tx, x_Rx, y_Rx)\n",
    "# Reflection angles\n",
    "theta_i = reflection_angles(x_Tx, y_Tx, x_Rx, y_Rx, xr, yr)\n",
    "\n",
    "# LOS path (coefficients of line equations)\n",
    "TxRx = line_equation_coefficients(x_Tx, x_Rx, y_Tx, y_Rx, 'single')\n",
    "# Tx-Reflection paths (coefficients of line equations)\n",
    "TxRP = line_equation_coefficients(x_Tx, xr, y_Tx, yr, 'multiple')\n",
    "# Reflection paths-Rx (coefficients of line equations)\n",
    "RPRx = line_equation_coefficients(xr, x_Rx, yr, y_Rx, 'multiple')\n",
    "# Tx-RIS paths (coefficients of line equations)\n",
    "TxRIS = line_equation_coefficients(x_Tx, x_RIS, y_Tx, y_RIS, 'multiple')\n",
    "# RIS-Rx paths (coefficients of line equations)\n",
    "RISRx = line_equation_coefficients(x_RIS, x_Rx, y_RIS, y_Rx, 'multiple')\n",
    "# Tx-RIScenter \n",
    "TxRISc = line_equation_coefficients(x_Tx, ris_center_x, y_Tx, ris_center_y, 'single')\n",
    "# Tx-RIScenter \n",
    "RIScRx = line_equation_coefficients(ris_center_x, x_Rx, ris_center_y, y_Rx, 'single')\n",
    "\n",
    "dk      = np.zeros(5)\n",
    "dk[0]   = np.sqrt(np.power(x_Rx - x_Tx, 2) + np.power(y_Rx - y_Tx, 2))\n",
    "dk[1:5] = TxRP.d + RPRx.d\n",
    "dRIS    = TxRIS.d + RISRx.d\n",
    "dRISc   = TxRISc.d + RIScRx.d\n",
    "\n",
    "Rs       = np.divide(n1 * np.cos(theta_i) - n2 * np.sqrt(1 - np.power(n1 * np.sin(theta_i) / n2, 2)),\n",
    "                     n1 * np.cos(theta_i) + n2 * np.sqrt(1 - np.power(n1 * np.sin(theta_i) / n2, 2)))\n",
    "Rp       = np.divide(n1 * np.sqrt(1 - np.power(n1 * np.sin(theta_i) / n2, 2)) - n2 * np.cos(theta_i),\n",
    "                     n1 * np.sqrt(1 - np.power(n1 * np.sin(theta_i) / n2, 2)) + n2 * np.cos(theta_i))\n",
    "Rs       = Rs * np.conj(Rs)\n",
    "Rp       = Rp * np.conj(Rp)\n",
    "Rk       = np.divide(2, (Rs+Rp))\n",
    "Wk       = np.zeros(5)\n",
    "Lk       = np.zeros(5)\n",
    "Wk[1:5]  = 10 * np.log10(Rk)\n",
    "\n",
    "# Free space path loss for LOS path and reflection paths\n",
    "Lk      = 20 * np.log10(4 * np.pi * f * dk / c) + AO * dk + Wk[0:5]  # Eq. (1)\n",
    "\n",
    "theta_id = 180/np.pi * theta_i\n",
    "print('coordinates')\n",
    "print(\"Tx:\\t (%.2f, %.2f)\"%(x_Tx, y_Tx))\n",
    "print(\"Rx:\\t (%.2f, %.2f)\"%(x_Rx, y_Rx))\n",
    "print('--------------------------------')\n",
    "print('\\t\\t LOS\\t\\t path1\\t\\t path2\\t\\t path3\\t\\t path4')\n",
    "print('distances[m]\\t %.5f\\t %.5f\\t %.5f\\t %.5f\\t %.5f'%(dk[0], dk[1], dk[2], dk[3], dk[4]))\n",
    "print('angles[deg]\\t %.5f\\t %.5f\\t %.5f\\t %.5f\\t %.5f'%(0, theta_id[0], theta_id[1], theta_id[2], theta_id[3]))\n",
    "print('W[dB]\\t\\t %.5f\\t %.5f\\t %.5f\\t %.5f\\t %.5f'%(Wk[0], Wk[1], Wk[2], Wk[3], Wk[4]))\n",
    "print('Lk[dB]\\t\\t %.5f\\t %.5f\\t %.5f\\t %.5f\\t %.5f'%(Lk[0], Lk[1], Lk[2], Lk[3], Lk[4]))\n",
    "print('--------------------------------')"
   ]
  }
 ],
 "metadata": {
  "kernelspec": {
   "display_name": "Python 3 (ipykernel)",
   "language": "python",
   "name": "python3"
  },
  "language_info": {
   "codemirror_mode": {
    "name": "ipython",
    "version": 3
   },
   "file_extension": ".py",
   "mimetype": "text/x-python",
   "name": "python",
   "nbconvert_exporter": "python",
   "pygments_lexer": "ipython3",
   "version": "3.9.16"
  }
 },
 "nbformat": 4,
 "nbformat_minor": 5
}
