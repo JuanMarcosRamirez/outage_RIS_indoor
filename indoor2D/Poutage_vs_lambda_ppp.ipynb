{
 "cells": [
  {
   "cell_type": "markdown",
   "id": "89b1793d",
   "metadata": {},
   "source": [
    "# Simulation: outage probability versus the density of the Poisson point process"
   ]
  },
  {
   "cell_type": "markdown",
   "id": "337b1b95",
   "metadata": {},
   "source": [
    "## Loading libraries"
   ]
  },
  {
   "cell_type": "code",
   "execution_count": 1,
   "id": "376c6467",
   "metadata": {},
   "outputs": [],
   "source": [
    "import numpy as np\n",
    "import matplotlib.pyplot as plt\n",
    "import time\n",
    "from statsmodels.stats.proportion import proportion_confint\n",
    "\n",
    "from misc import line_equation_coefficients\n",
    "from misc import dist_to_obstructions\n",
    "from misc import blocked_rays_main_paths\n",
    "from misc import fcombine"
   ]
  },
  {
   "cell_type": "markdown",
   "id": "88152a06",
   "metadata": {},
   "source": [
    "## Room parameters"
   ]
  },
  {
   "cell_type": "code",
   "execution_count": 2,
   "id": "2bc1982d",
   "metadata": {},
   "outputs": [],
   "source": [
    "# Room dimensions\n",
    "Lx = 30\n",
    "Ly = 20\n",
    "room_area = Lx * Ly\n",
    "\n",
    "# Transmitter and receiver cooordinates\n",
    "x_Tx = 8\n",
    "y_Tx = 3\n",
    "\n",
    "x_Rx = 15\n",
    "y_Rx = 10\n",
    "\n",
    "# RIS center coordinates\n",
    "ris_center_x = 12\n",
    "ris_center_y = 0\n",
    "N = 64"
   ]
  },
  {
   "cell_type": "markdown",
   "id": "9f89942e",
   "metadata": {},
   "source": [
    "## Simulation Parameters"
   ]
  },
  {
   "cell_type": "code",
   "execution_count": 3,
   "id": "70529e99",
   "metadata": {},
   "outputs": [],
   "source": [
    "trials = 100000\n",
    "\n",
    "GHz  = 18             # operating frequency\n",
    "c    = 299792458      # speed of light\n",
    "r    = 0.1            # obtruction radius\n",
    "sgm2 = 1.658e-11      # Noise varianve\n",
    "Pt   = 0.1            # Transmitted power\n",
    "\n",
    "# Antenna gain\n",
    "GtdB = 20             # Transmitter antenna gain in dB   \n",
    "GrdB = 10             # Recaiver antenna gain in dB\n",
    "Gt   = np.power(10, GtdB/10)\n",
    "Gr   = np.power(10, GrdB/10)\n",
    "G    = Gr * Gt\n",
    "B    = sgm2/(Pt * G)\n",
    "\n",
    "# Table 2 (paper)\n",
    "if (GHz == 18):\n",
    "    z  = 130\n",
    "    AO = 0.00006\n",
    "    f  = 18e9\n",
    "if (GHz == 26):\n",
    "    z  = 200\n",
    "    AO = 0.00013\n",
    "    f  = 26e9\n",
    "if (GHz == 60):\n",
    "    z  = 390\n",
    "    AO = 0.015\n",
    "    f  = 60e9\n",
    "if (GHz == 73):\n",
    "    z  = 420\n",
    "    AO = 0.0075\n",
    "    f  = 73e9\n",
    "    \n",
    "wvlen= c / f          # Signal wavelength\n",
    "dx = wvlen/2          # RIS cell side size"
   ]
  },
  {
   "cell_type": "markdown",
   "id": "8d831df8",
   "metadata": {},
   "source": [
    "## RIS cell coordinates"
   ]
  },
  {
   "cell_type": "code",
   "execution_count": 4,
   "id": "735aeb60",
   "metadata": {},
   "outputs": [],
   "source": [
    "# RIS on the bottom wall\n",
    "if (ris_center_y == 0):\n",
    "    x_RIS  = dx * (np.linspace(1-N/2,N/2,N) - 0.50) + ris_center_x\n",
    "    y_RIS  = np.zeros(N) \n",
    "    wall = 'bottom'\n",
    "# RIS on the left wall\n",
    "if (ris_center_x == 0):\n",
    "    y_RIS  = dx * (np.linspace(1-N/2,N/2,N) - 0.50) + ris_center_y\n",
    "    x_RIS  = np.zeros(N)\n",
    "    wall = 'left'\n",
    "# RIS on the upper wall\n",
    "if (ris_center_y == Ly):\n",
    "    x_RIS  = dx * (np.linspace(1-N/2,N/2,N) - 0.50) + ris_center_x    # RIS x-coordinates\n",
    "    y_RIS  = np.ones(N) * Ly\n",
    "    wall = 'upper'\n",
    "# RIS on the right wall\n",
    "if (ris_center_x == Lx):\n",
    "    y_RIS  = dx * (np.linspace(1-N/2,N/2,N) - 0.50) + ris_center_y     # RIS x-coordinates\n",
    "    x_RIS  = np.ones(N) * Lx\n",
    "    wall = 'right'"
   ]
  },
  {
   "cell_type": "markdown",
   "id": "183e7f12",
   "metadata": {},
   "source": [
    "## Free space path loss"
   ]
  },
  {
   "cell_type": "code",
   "execution_count": 5,
   "id": "0789bca4",
   "metadata": {},
   "outputs": [
    {
     "name": "stdout",
     "output_type": "stream",
     "text": [
      "Coordinates\n",
      "Tx:\t\t (8.00, 3.00)\n",
      "Rx:\t\t (15.00, 10.00)\n",
      "---------------------------------------------\n",
      "\t\t LOS\n",
      "Distance LOS[m]\t\t\t 9.89949\t\n",
      "Free space path loss[dB]\t 77.46609\t\n",
      "---------------------------------------------\n"
     ]
    }
   ],
   "source": [
    "# LOS path\n",
    "TxRx = line_equation_coefficients(x_Tx, x_Rx, y_Tx, y_Rx, 'single')\n",
    "# Tx-RIS paths\n",
    "TxRIS = line_equation_coefficients(x_Tx, x_RIS, y_Tx, y_RIS, 'multiple')\n",
    "# RIS-Rx paths\n",
    "RISRx = line_equation_coefficients(x_RIS, x_Rx, y_RIS, y_Rx, 'multiple')\n",
    "# Tx-RIScenter \n",
    "TxRISc = line_equation_coefficients(x_Tx, ris_center_x, y_Tx, ris_center_y, 'single')\n",
    "# Tx-RIScenter \n",
    "RIScRx = line_equation_coefficients(ris_center_x, x_Rx, ris_center_y, y_Rx, 'single')\n",
    "\n",
    "# Distances\n",
    "dk0     = np.sqrt(np.power(x_Rx - x_Tx, 2) + np.power(y_Rx - y_Tx, 2))\n",
    "dRIS    = TxRIS.d + RISRx.d\n",
    "\n",
    "# Free space path loss for LOS path and reflection paths\n",
    "Lk      = 20 * np.log10(4 * np.pi * f * dk0 / c) + AO * dk0  # Eq. (1)\n",
    "\n",
    "print('Coordinates')\n",
    "print(\"Tx:\\t\\t (%.2f, %.2f)\"%(x_Tx, y_Tx))\n",
    "print(\"Rx:\\t\\t (%.2f, %.2f)\"%(x_Rx, y_Rx))\n",
    "print('---------------------------------------------')\n",
    "print('\\t\\t LOS')\n",
    "print('Distance LOS[m]\\t\\t\\t %.5f\\t'%(dk0))\n",
    "print('Free space path loss[dB]\\t %.5f\\t'%(Lk))\n",
    "print('---------------------------------------------')"
   ]
  },
  {
   "cell_type": "markdown",
   "id": "ea949fc8",
   "metadata": {},
   "source": [
    "## Simulation"
   ]
  },
  {
   "cell_type": "code",
   "execution_count": null,
   "id": "23c226eb",
   "metadata": {},
   "outputs": [
    {
     "name": "stdout",
     "output_type": "stream",
     "text": [
      "Elapsed time: 26.54616141319275 seconds ---\n",
      "Elapsed time: 35.97767400741577 seconds ---\n",
      "Elapsed time: 49.91953372955322 seconds ---\n",
      "Elapsed time: 61.72155547142029 seconds ---\n",
      "Elapsed time: 73.80953741073608 seconds ---\n",
      "Elapsed time: 85.70512223243713 seconds ---\n",
      "Elapsed time: 94.36227631568909 seconds ---\n"
     ]
    }
   ],
   "source": [
    "lmbd_vec = np.linspace(0.1, 1, 8)  # intensity of the PPP (m^(-2))\n",
    "gamma_threshold = -10\n",
    "gmm_th = gamma_threshold + 100\n",
    "\n",
    "Po_cn = np.zeros(len(lmbd_vec))\n",
    "Po_lw = np.zeros(len(lmbd_vec))\n",
    "Po_up = np.zeros(len(lmbd_vec))\n",
    "\n",
    "Pn_cn = np.zeros(len(lmbd_vec))\n",
    "Pn_lw = np.zeros(len(lmbd_vec))\n",
    "Pn_up = np.zeros(len(lmbd_vec))\n",
    "\n",
    "for ll in range(len(lmbd_vec)):\n",
    "    lmbd = lmbd_vec[ll]\n",
    "    start_time = time.time()\n",
    "    \n",
    "    obs_len_per_path     = np.zeros((1,trials))\n",
    "    obs_len_per_path_RIS = np.zeros((N,trials))\n",
    "    obs_len_per_path_Tx = np.zeros((N,trials))\n",
    "    obs_len_per_path_Rx = np.zeros((N,trials))\n",
    "    \n",
    "    # Number of obstructions\n",
    "    No = np.random.poisson(lam=lmbd*(Lx - 2 * r)*(Ly - 2 * r), size=trials) \n",
    "    for ii in range(trials):\n",
    "        # Locations of the obstruction centers\n",
    "        x_1 = (Lx - 2 * r) * np.random.uniform(size=No[ii]) + r\n",
    "        y_1 = (Ly - 2 * r) * np.random.uniform(size=No[ii]) + r  \n",
    "        \n",
    "        # Distances between paths and obstruction centers\n",
    "        d2o = dist_to_obstructions(x_1, y_1, TxRx.A, TxRx.B, TxRx.C)   \n",
    "    \n",
    "        x_1r = np.tile(x_1.reshape(No[ii], 1), [1, N])\n",
    "        y_1r = np.tile(y_1.reshape(No[ii], 1), [1, N])\n",
    "        d2o_TxRIS = np.divide(np.abs(np.tile(TxRIS.A, [No[ii], 1]) * x_1r + np.tile(TxRIS.B, [No[ii], 1]) * y_1r + np.tile(TxRIS.C, [No[ii], 1])),\n",
    "                               np.tile(np.sqrt(np.square(TxRIS.A) + np.square(TxRIS.B)), [No[ii], 1]))\n",
    "        d2o_RISRx = np.divide(np.abs(np.tile(RISRx.A, [No[ii], 1]) * x_1r + np.tile(RISRx.B, [No[ii], 1]) * y_1r + np.tile(RISRx.C, [No[ii], 1])),\n",
    "                               np.tile(np.sqrt(np.square(RISRx.A) + np.square(RISRx.B)), [No[ii], 1]))\n",
    "        \n",
    "        block_ray = blocked_rays_main_paths(x_1, y_1, x_Tx, \n",
    "                                                           x_Rx, \n",
    "                                                           y_Tx, \n",
    "                                                           y_Rx, r, d2o)    \n",
    "    \n",
    "        xTmin = np.minimum(np.repeat(x_Tx,N), x_RIS) - r\n",
    "        xTmax = np.maximum(np.repeat(x_Tx,N), x_RIS) + r\n",
    "        yTmin = np.minimum(np.repeat(y_Tx,N), y_RIS) - r\n",
    "        yTmax = np.maximum(np.repeat(y_Tx,N), y_RIS) + r\n",
    "        br_TxRIS = ((x_1r >= np.tile(xTmin, [No[ii], 1])) & (x_1r <= np.tile(xTmax, [No[ii], 1]))) & ((y_1r >= np.tile(yTmin, [No[ii], 1])) & (y_1r <= np.tile(yTmax, [No[ii], 1]))) & (d2o_TxRIS < r)\n",
    "        \n",
    "        xRmin = np.minimum(np.repeat(x_Rx,N), x_RIS) - r\n",
    "        xRmax = np.maximum(np.repeat(x_Rx,N), x_RIS) + r\n",
    "        yRmin = np.minimum(np.repeat(y_Rx,N), y_RIS) - r\n",
    "        yRmax = np.maximum(np.repeat(y_Rx,N), y_RIS) + r\n",
    "        br_RISRx = ((x_1r >= np.tile(xRmin, [No[ii], 1])) & (x_1r <= np.tile(xRmax, [No[ii], 1]))) & ((y_1r >= np.tile(yRmin, [No[ii], 1])) & (y_1r <= np.tile(yRmax, [No[ii], 1]))) & (d2o_RISRx < r)\n",
    "                        \n",
    "        obs_pos = np.multiply(r**2 - np.square(d2o), block_ray)\n",
    "        obs_pos_TxRIS = 2 *  np.sqrt(np.multiply(r**2 - np.square(d2o_TxRIS), br_TxRIS))\n",
    "        obs_pos_RISRx = 2 *  np.sqrt(np.multiply(r**2 - np.square(d2o_RISRx), br_RISRx))\n",
    "                        \n",
    "        # obstruction lengths \n",
    "        obs_len_per_path[0,ii] = np.sum(2 * np.sqrt(obs_pos),axis=0)\n",
    "        obs_len_per_path_RIS[:,ii] = np.sum(obs_pos_TxRIS + obs_pos_RISRx, axis=0)\n",
    "        obs_len_per_path_Tx[:,ii] = np.sum(obs_pos_TxRIS, axis=0)\n",
    "        obs_len_per_path_Rx[:,ii] = np.sum(obs_pos_RISRx, axis=0)\n",
    "            \n",
    "    print(\"Elapsed time: %s seconds ---\" % (time.time() - start_time))\n",
    "\n",
    "    # LOS path\n",
    "    a1_exact   = np.power(10, 0.1 * (Lk + z * obs_len_per_path))\n",
    "    Psi1_exact = a1_exact\n",
    "    \n",
    "    # LOS + RIS path\n",
    "    Fcombine = fcombine(wall, \n",
    "                        'Conventional array', \n",
    "                        x_RIS, \n",
    "                        y_RIS, \n",
    "                        x_Tx, \n",
    "                        y_Tx, \n",
    "                        x_Rx, \n",
    "                        y_Rx, \n",
    "                        1, \n",
    "                        (Gt/2) - 1, \n",
    "                        (Gr/2) - 1)\n",
    "    \n",
    "    Dair           = np.sqrt(np.power(10, AO * (TxRIS.d + RISRx.d - 2*r) / 10))\n",
    "    num            = np.repeat(np.sqrt(Fcombine.reshape(-1,1)), trials, axis=1)\n",
    "    LkRIS  = 20 * np.log10(4 * np.pi/(dx**2))\n",
    "    \n",
    "    D_obs_exact    = np.sqrt(np.power(10, z * obs_len_per_path_RIS / 10))\n",
    "    den_exact      = Dair.reshape(-1,1) * D_obs_exact * TxRIS.d.reshape(-1,1) * RISRx.d.reshape(-1,1)\n",
    "    RIS_term_exact = 20 * np.log10(np.absolute(np.sum(np.divide(num, den_exact), axis=0)))\n",
    "    \n",
    "    a1_exact_RIS        = np.zeros((2,trials))\n",
    "    a1_exact_RIS[0,:]   = np.power(10, 0.1 * (Lk.reshape(-1,1) + z * obs_len_per_path))\n",
    "    a1_exact_RIS[1,:]   = np.power(10, 0.1 * (LkRIS.reshape(-1,1) - RIS_term_exact))\n",
    "    \n",
    "    Psi1_exact_RIS = a1_exact_RIS[np.argmin(a1_exact_RIS, axis=0), np.arange(0,trials)]\n",
    "    \n",
    "    sqr_h = np.random.exponential(scale=1.0, size=trials)\n",
    "    gamma_th = np.linspace(-100, 100, 201)\n",
    "    \n",
    "    compare1 = (np.divide(np.repeat(sqr_h.reshape(1,-1), len(gamma_th), axis=0),\n",
    "                          np.repeat(Psi1_exact.reshape(1,-1), len(gamma_th), axis=0)).T <= B * np.power(10, 0.1 * gamma_th).reshape(1,-1))\n",
    "    outage1  = np.sum(compare1, axis=0) * (1 / trials)\n",
    "    CI1      = proportion_confint(np.sum(compare1, axis=0), trials, alpha=0.05, method='normal')\n",
    "    \n",
    "    compare2 = (np.divide(np.repeat(sqr_h.reshape(1,-1), len(gamma_th), axis=0),\n",
    "                          np.repeat(Psi1_exact_RIS.reshape(1,-1), len(gamma_th), axis=0)).T <= B * np.power(10, 0.1 * gamma_th).reshape(1,-1))\n",
    "    outage2  = np.sum(compare2, axis=0) * (1 / trials)\n",
    "    CI2      = proportion_confint(np.sum(compare2, axis=0), trials, alpha=0.05, method='normal')\n",
    "    \n",
    "    Po_cn[ll] = outage1[gmm_th]\n",
    "    Po_lw[ll] = CI1[0][gmm_th]\n",
    "    Po_up[ll] = CI1[1][gmm_th]\n",
    "\n",
    "    Pn_cn[ll] = outage2[gmm_th]\n",
    "    Pn_lw[ll] = CI2[0][gmm_th]\n",
    "    Pn_up[ll] = CI2[1][gmm_th]"
   ]
  },
  {
   "cell_type": "markdown",
   "id": "50d6c7a0",
   "metadata": {},
   "source": [
    "## Figure"
   ]
  },
  {
   "cell_type": "code",
   "execution_count": null,
   "id": "c41240db",
   "metadata": {},
   "outputs": [],
   "source": [
    "fig = plt.figure(dpi=150)\n",
    "plt.plot(lmbd_vec, Po_cn, '--', lw=1, label= 'LOS')\n",
    "plt.fill_between(lmbd_vec, Po_lw, Po_up, alpha=0.25)\n",
    "plt.plot(lmbd_vec, Pn_cn, '--', lw=1, label= 'RIS (N = %d)'%(N))\n",
    "plt.fill_between(lmbd_vec, Pn_lw, Pn_up, alpha=0.25)\n",
    "    \n",
    "plt.xlim(0.2, 1)\n",
    "plt.ylim([0.0001, 1])\n",
    "plt.grid(which='both')\n",
    "plt.yscale('log')\n",
    "plt.ylabel('P_outage')\n",
    "plt.xlabel('lambda_obs [dBm]')\n",
    "plt.title('f = %dGHz, wall =%s, No trials = %d, r = %.2fm'%(GHz, wall, trials, r))\n",
    "plt.legend()\n",
    "plt.show()  "
   ]
  }
 ],
 "metadata": {
  "kernelspec": {
   "display_name": "Python 3 (ipykernel)",
   "language": "python",
   "name": "python3"
  },
  "language_info": {
   "codemirror_mode": {
    "name": "ipython",
    "version": 3
   },
   "file_extension": ".py",
   "mimetype": "text/x-python",
   "name": "python",
   "nbconvert_exporter": "python",
   "pygments_lexer": "ipython3",
   "version": "3.9.16"
  }
 },
 "nbformat": 4,
 "nbformat_minor": 5
}
